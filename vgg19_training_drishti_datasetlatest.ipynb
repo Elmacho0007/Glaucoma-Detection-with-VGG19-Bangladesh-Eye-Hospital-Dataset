{
  "cells": [
    {
      "cell_type": "code",
      "execution_count": null,
      "id": "8b3eefba-3996-4d06-86e6-a0892abfa43a",
      "metadata": {
        "id": "8b3eefba-3996-4d06-86e6-a0892abfa43a"
      },
      "outputs": [],
      "source": [
        "import numpy as np\n",
        "import keras\n",
        "from keras.models import Sequential\n",
        "from keras.layers import Activation,MaxPooling2D,Dropout\n",
        "from keras.layers.core import Dense, Flatten\n",
        "from keras.optimizers import Adam\n",
        "from keras.optimizers import SGD\n",
        "from keras.metrics import categorical_crossentropy\n",
        "from keras.preprocessing.image import ImageDataGenerator\n",
        "from tensorflow.keras.layers import BatchNormalization\n",
        "from tensorflow.keras.layers import Conv2D\n",
        "from tensorflow.keras.models import load_model\n",
        "from keras.callbacks import ModelCheckpoint,ReduceLROnPlateau,EarlyStopping,LearningRateScheduler,CSVLogger,LambdaCallback,TensorBoard\n",
        "from tensorflow.keras import regularizers\n",
        "import itertools\n",
        "import matplotlib.pyplot as plt\n",
        "from sklearn.metrics import confusion_matrix\n",
        "from tensorflow.keras.regularizers import l2\n",
        "import seaborn as sns\n",
        "from pathlib import Path\n",
        "import math\n",
        "import os\n",
        "from tensorflow.keras.applications import ResNet50\n",
        "from tensorflow.keras.applications import VGG16\n",
        "from tensorflow.keras.applications import VGG19\n",
        "%matplotlib inline"
      ]
    },
    {
      "cell_type": "code",
      "execution_count": null,
      "id": "67ryOOlWgLLb",
      "metadata": {
        "colab": {
          "base_uri": "https://localhost:8080/"
        },
        "id": "67ryOOlWgLLb",
        "outputId": "ae30eb1b-feaf-4e2a-adba-7f8e4535ed2f"
      },
      "outputs": [
        {
          "output_type": "stream",
          "name": "stdout",
          "text": [
            "Mounted at /content/drive\n"
          ]
        }
      ],
      "source": [
        "from google.colab import drive\n",
        "drive.mount('/content/drive')"
      ]
    },
    {
      "cell_type": "code",
      "execution_count": null,
      "id": "c888076a-15ce-466f-aa05-3787a724c921",
      "metadata": {
        "colab": {
          "base_uri": "https://localhost:8080/"
        },
        "id": "c888076a-15ce-466f-aa05-3787a724c921",
        "outputId": "fa12811a-58a7-4d87-9af6-13bddb831d32"
      },
      "outputs": [
        {
          "output_type": "stream",
          "name": "stdout",
          "text": [
            "Looking in indexes: https://pypi.org/simple, https://us-python.pkg.dev/colab-wheels/public/simple/\n",
            "Collecting split-folders\n",
            "  Downloading split_folders-0.5.1-py3-none-any.whl (8.4 kB)\n",
            "Installing collected packages: split-folders\n",
            "Successfully installed split-folders-0.5.1\n"
          ]
        }
      ],
      "source": [
        "!pip install split-folders"
      ]
    },
    {
      "cell_type": "code",
      "execution_count": null,
      "id": "edkxIGC0iGtU",
      "metadata": {
        "id": "edkxIGC0iGtU"
      },
      "outputs": [],
      "source": [
        "import splitfolders"
      ]
    },
    {
      "cell_type": "code",
      "execution_count": null,
      "id": "betTT_aViGvd",
      "metadata": {
        "id": "betTT_aViGvd"
      },
      "outputs": [],
      "source": [
        "dristi_data_dir = '/content/drive/MyDrive/dristygs/Drishti-GS1/Drishti-GS1'"
      ]
    },
    {
      "cell_type": "code",
      "execution_count": null,
      "id": "RFMJSzBlqvBk",
      "metadata": {
        "id": "RFMJSzBlqvBk"
      },
      "outputs": [],
      "source": [
        "split_output_dir = \"/content/drive/MyDrive/Eye Glaucoma/drishtri_data/\"\n",
        "Path(split_output_dir).mkdir(parents=True, exist_ok=True)"
      ]
    },
    {
      "cell_type": "markdown",
      "source": [
        "# New Section"
      ],
      "metadata": {
        "id": "iE3cGbv07WfZ"
      },
      "id": "iE3cGbv07WfZ"
    },
    {
      "cell_type": "code",
      "execution_count": null,
      "id": "YkUid2u3qvDm",
      "metadata": {
        "id": "YkUid2u3qvDm"
      },
      "outputs": [],
      "source": [
        "train_dir = \"/content/drive/MyDrive/Eye Glaucoma/drishtri_data/train\"\n",
        "val_dir = \"/content/drive/MyDrive/Eye Glaucoma/drishtri_data/val\"\n",
        "test_dir = \"/content/drive/MyDrive/Eye Glaucoma/drishtri_data/test\""
      ]
    },
    {
      "cell_type": "code",
      "execution_count": null,
      "id": "syB1logIrTwr",
      "metadata": {
        "colab": {
          "base_uri": "https://localhost:8080/"
        },
        "id": "syB1logIrTwr",
        "outputId": "d57b5aca-5917-4c85-ed45-e1ed8bc1fcc1"
      },
      "outputs": [
        {
          "output_type": "stream",
          "name": "stdout",
          "text": [
            "==================Directory Created=================\n"
          ]
        },
        {
          "output_type": "stream",
          "name": "stderr",
          "text": [
            "Copying files: 6003 files [02:53, 34.50 files/s] \n"
          ]
        }
      ],
      "source": [
        "if Path(train_dir).exists() and Path(val_dir).exists() and Path(test_dir).exists():\n",
        "    print(\"===========Directory Already Exists==================\")\n",
        "    pass\n",
        "else:\n",
        "    print(\"==================Directory Created=================\")\n",
        "    splitfolders.ratio(dristi_data_dir, output=split_output_dir, seed=1337, ratio=(.8, 0.1,0.1))"
      ]
    },
    {
      "cell_type": "code",
      "execution_count": null,
      "id": "iAZG5DYjri2x",
      "metadata": {
        "id": "iAZG5DYjri2x"
      },
      "outputs": [],
      "source": [
        "train_gen = ImageDataGenerator(\n",
        "    shear_range=0.2,\n",
        "    zoom_range=0.2,\n",
        "    rotation_range=20,\n",
        "    width_shift_range=0.2,\n",
        "    height_shift_range=0.2,\n",
        "    horizontal_flip=True,\n",
        "    channel_shift_range=10.,\n",
        "    fill_mode=\"nearest\"\n",
        ")\n",
        "gen = ImageDataGenerator()"
      ]
    },
    {
      "cell_type": "code",
      "execution_count": null,
      "id": "9d26a695-1a09-424e-9988-410ffdc2d696",
      "metadata": {
        "colab": {
          "base_uri": "https://localhost:8080/"
        },
        "id": "9d26a695-1a09-424e-9988-410ffdc2d696",
        "outputId": "431f44e9-dd5e-4944-8370-84a15128051a"
      },
      "outputs": [
        {
          "output_type": "stream",
          "name": "stdout",
          "text": [
            "Found 4802 images belonging to 2 classes.\n",
            "Found 600 images belonging to 2 classes.\n",
            "Found 601 images belonging to 2 classes.\n"
          ]
        }
      ],
      "source": [
        "train_batches = train_gen.flow_from_directory(directory=train_dir, target_size=(224,224),\n",
        "    classes=['Glaucoma', 'Normal'], batch_size=32)\n",
        "\n",
        "valid_batches = ImageDataGenerator().flow_from_directory(directory=val_dir, target_size=(224,224),\n",
        "    classes=['Glaucoma', 'Normal'], batch_size=32)\n",
        "\n",
        "test_batches = ImageDataGenerator().flow_from_directory(directory=test_dir, target_size=(224,224),\n",
        "    classes=['Glaucoma', 'Normal'], batch_size=32,shuffle=False)"
      ]
    },
    {
      "cell_type": "code",
      "execution_count": null,
      "id": "75102715-53de-4f52-91d2-dcecca7adb50",
      "metadata": {
        "id": "75102715-53de-4f52-91d2-dcecca7adb50"
      },
      "outputs": [],
      "source": [
        "# learning rate schedule\n",
        "def step_decay(epoch):\n",
        "    initial_lrate = 0.001\n",
        "    drop = 0.5\n",
        "    epochs_drop = 1.0\n",
        "    lrate = initial_lrate * math.pow(drop, math.floor((1+epoch)/epochs_drop))\n",
        "    return lrate"
      ]
    },
    {
      "cell_type": "code",
      "execution_count": null,
      "id": "334ceaed-9972-46e0-9d34-51a051bf5be9",
      "metadata": {
        "id": "334ceaed-9972-46e0-9d34-51a051bf5be9"
      },
      "outputs": [],
      "source": [
        "# plots images with labels within jupyter notebook\n",
        "def plots(ims, figsize=(12,6), rows=1, interp=False, titles=None):\n",
        "    if type(ims[0]) is np.ndarray:\n",
        "        ims = np.array(ims).astype(np.uint8)\n",
        "        if (ims.shape[-1] != 3):\n",
        "            ims = ims.transpose((0,2,3,1))\n",
        "    f = plt.figure(figsize=figsize)\n",
        "    plt.style.use('ggplot')\n",
        "    cols = len(ims)/rows\n",
        "    #cols = 8\n",
        "    for i in range(len(ims)):\n",
        "    #for i in range(10):\n",
        "        sp = f.add_subplot(rows, cols, i+1)\n",
        "        sp.axis('Off')\n",
        "        if titles is not None:\n",
        "            sp.set_title(titles[i], fontsize=16)\n",
        "        plt.imshow(ims[i], interpolation=None if interp else 'none')\n"
      ]
    },
    {
      "cell_type": "code",
      "execution_count": null,
      "id": "9d4ef738-2288-4b2c-9a0d-d856ca75d359",
      "metadata": {
        "id": "9d4ef738-2288-4b2c-9a0d-d856ca75d359",
        "colab": {
          "base_uri": "https://localhost:8080/"
        },
        "outputId": "9722c8ac-fa66-4274-e420-c9fec80b7b1e"
      },
      "outputs": [
        {
          "output_type": "stream",
          "name": "stdout",
          "text": [
            "Downloading data from https://storage.googleapis.com/tensorflow/keras-applications/vgg19/vgg19_weights_tf_dim_ordering_tf_kernels.h5\n",
            "574710816/574710816 [==============================] - 25s 0us/step\n"
          ]
        }
      ],
      "source": [
        "vgg19_model = VGG19()\n",
        "#vgg16_model = VGG16()\n",
        "model_vgg19 = Sequential()\n",
        "for layer in vgg19_model.layers[:-1]:\n",
        "    model_vgg19.add(layer)\n",
        "for layer in model_vgg19.layers:\n",
        "    layer.trainable = False\n",
        "\n",
        "model_vgg19.add(Dense(2, activation='sigmoid'))\n",
        "\n",
        "\n",
        "mcp_save = ModelCheckpoint('/content/drive/MyDrive/Eye Glaucoma/models/eye_ckpt_vgg19.h5', save_best_only=True, monitor='val_loss', mode='auto')\n",
        "\n",
        "earlyStopping = EarlyStopping(monitor='val_loss',min_delta=0,verbose=1,mode='auto',baseline=None,patience=10,restore_best_weights=True)\n",
        "\n",
        "reduce_lr_loss = ReduceLROnPlateau(monitor='val_loss', factor=0.1, patience=3, verbose=1, min_delta=1e-4,mode='auto')"
      ]
    },
    {
      "cell_type": "code",
      "execution_count": null,
      "id": "rlp2enicFy-s",
      "metadata": {
        "id": "rlp2enicFy-s"
      },
      "outputs": [],
      "source": [
        "callbacks_list = [mcp_save,reduce_lr_loss, earlyStopping]"
      ]
    },
    {
      "cell_type": "code",
      "execution_count": null,
      "id": "a3180610-e080-40a9-a968-701cd812006c",
      "metadata": {
        "colab": {
          "base_uri": "https://localhost:8080/"
        },
        "id": "a3180610-e080-40a9-a968-701cd812006c",
        "outputId": "7894599f-7224-4083-eecc-e558aa47f005"
      },
      "outputs": [
        {
          "output_type": "stream",
          "name": "stdout",
          "text": [
            "Running the Training of Model from Scratch\n",
            "Epoch 1/50\n",
            "151/151 [==============================] - 95s 547ms/step - loss: 0.4646 - accuracy: 0.8203 - val_loss: 0.2700 - val_accuracy: 0.9450 - lr: 1.0000e-04\n",
            "Epoch 2/50\n",
            "151/151 [==============================] - 77s 512ms/step - loss: 0.2486 - accuracy: 0.9323 - val_loss: 0.1727 - val_accuracy: 0.9533 - lr: 1.0000e-04\n",
            "Epoch 3/50\n",
            "151/151 [==============================] - 78s 514ms/step - loss: 0.1905 - accuracy: 0.9467 - val_loss: 0.1326 - val_accuracy: 0.9600 - lr: 1.0000e-04\n",
            "Epoch 4/50\n",
            "151/151 [==============================] - 79s 520ms/step - loss: 0.1564 - accuracy: 0.9540 - val_loss: 0.1088 - val_accuracy: 0.9767 - lr: 1.0000e-04\n",
            "Epoch 5/50\n",
            "151/151 [==============================] - 78s 513ms/step - loss: 0.1327 - accuracy: 0.9648 - val_loss: 0.0926 - val_accuracy: 0.9700 - lr: 1.0000e-04\n",
            "Epoch 6/50\n",
            "151/151 [==============================] - 89s 592ms/step - loss: 0.1159 - accuracy: 0.9711 - val_loss: 0.0834 - val_accuracy: 0.9750 - lr: 1.0000e-04\n",
            "Epoch 7/50\n",
            "151/151 [==============================] - 80s 527ms/step - loss: 0.1048 - accuracy: 0.9723 - val_loss: 0.0706 - val_accuracy: 0.9817 - lr: 1.0000e-04\n",
            "Epoch 8/50\n",
            "151/151 [==============================] - 83s 545ms/step - loss: 0.0925 - accuracy: 0.9758 - val_loss: 0.0659 - val_accuracy: 0.9833 - lr: 1.0000e-04\n",
            "Epoch 9/50\n",
            "151/151 [==============================] - 79s 519ms/step - loss: 0.0863 - accuracy: 0.9798 - val_loss: 0.0637 - val_accuracy: 0.9800 - lr: 1.0000e-04\n",
            "Epoch 10/50\n",
            "151/151 [==============================] - 82s 543ms/step - loss: 0.0794 - accuracy: 0.9790 - val_loss: 0.0493 - val_accuracy: 0.9883 - lr: 1.0000e-04\n",
            "Epoch 11/50\n",
            "151/151 [==============================] - 81s 535ms/step - loss: 0.0738 - accuracy: 0.9817 - val_loss: 0.0457 - val_accuracy: 0.9900 - lr: 1.0000e-04\n",
            "Epoch 12/50\n",
            "151/151 [==============================] - 80s 529ms/step - loss: 0.0708 - accuracy: 0.9827 - val_loss: 0.0409 - val_accuracy: 0.9900 - lr: 1.0000e-04\n",
            "Epoch 13/50\n",
            "151/151 [==============================] - 80s 532ms/step - loss: 0.0647 - accuracy: 0.9854 - val_loss: 0.0379 - val_accuracy: 0.9900 - lr: 1.0000e-04\n",
            "Epoch 14/50\n",
            "151/151 [==============================] - 74s 491ms/step - loss: 0.0643 - accuracy: 0.9850 - val_loss: 0.0388 - val_accuracy: 0.9917 - lr: 1.0000e-04\n",
            "Epoch 15/50\n",
            "151/151 [==============================] - 82s 543ms/step - loss: 0.0579 - accuracy: 0.9867 - val_loss: 0.0377 - val_accuracy: 0.9917 - lr: 1.0000e-04\n",
            "Epoch 16/50\n",
            "151/151 [==============================] - 82s 544ms/step - loss: 0.0556 - accuracy: 0.9871 - val_loss: 0.0296 - val_accuracy: 0.9900 - lr: 1.0000e-04\n",
            "Epoch 17/50\n",
            "151/151 [==============================] - 81s 538ms/step - loss: 0.0500 - accuracy: 0.9900 - val_loss: 0.0294 - val_accuracy: 0.9933 - lr: 1.0000e-04\n",
            "Epoch 18/50\n",
            "151/151 [==============================] - 76s 501ms/step - loss: 0.0487 - accuracy: 0.9877 - val_loss: 0.0301 - val_accuracy: 0.9917 - lr: 1.0000e-04\n",
            "Epoch 19/50\n",
            "151/151 [==============================] - 79s 524ms/step - loss: 0.0467 - accuracy: 0.9892 - val_loss: 0.0286 - val_accuracy: 0.9917 - lr: 1.0000e-04\n",
            "Epoch 20/50\n",
            "151/151 [==============================] - 81s 536ms/step - loss: 0.0420 - accuracy: 0.9935 - val_loss: 0.0222 - val_accuracy: 0.9933 - lr: 1.0000e-04\n",
            "Epoch 21/50\n",
            "151/151 [==============================] - 74s 486ms/step - loss: 0.0414 - accuracy: 0.9906 - val_loss: 0.0238 - val_accuracy: 0.9917 - lr: 1.0000e-04\n",
            "Epoch 22/50\n",
            "151/151 [==============================] - 75s 497ms/step - loss: 0.0385 - accuracy: 0.9923 - val_loss: 0.0235 - val_accuracy: 0.9917 - lr: 1.0000e-04\n",
            "Epoch 23/50\n",
            "151/151 [==============================] - ETA: 0s - loss: 0.0399 - accuracy: 0.9908\n",
            "Epoch 23: ReduceLROnPlateau reducing learning rate to 9.999999747378752e-06.\n",
            "151/151 [==============================] - 72s 479ms/step - loss: 0.0399 - accuracy: 0.9908 - val_loss: 0.0228 - val_accuracy: 0.9917 - lr: 1.0000e-04\n",
            "Epoch 24/50\n",
            "151/151 [==============================] - 78s 520ms/step - loss: 0.0393 - accuracy: 0.9906 - val_loss: 0.0206 - val_accuracy: 0.9917 - lr: 1.0000e-05\n",
            "Epoch 25/50\n",
            "151/151 [==============================] - 74s 492ms/step - loss: 0.0359 - accuracy: 0.9923 - val_loss: 0.0212 - val_accuracy: 0.9917 - lr: 1.0000e-05\n",
            "Epoch 26/50\n",
            "151/151 [==============================] - 78s 517ms/step - loss: 0.0367 - accuracy: 0.9913 - val_loss: 0.0203 - val_accuracy: 0.9917 - lr: 1.0000e-05\n",
            "Epoch 27/50\n",
            "151/151 [==============================] - 83s 547ms/step - loss: 0.0393 - accuracy: 0.9906 - val_loss: 0.0201 - val_accuracy: 0.9917 - lr: 1.0000e-05\n",
            "Epoch 28/50\n",
            "151/151 [==============================] - 80s 529ms/step - loss: 0.0347 - accuracy: 0.9931 - val_loss: 0.0195 - val_accuracy: 0.9967 - lr: 1.0000e-05\n",
            "Epoch 29/50\n",
            "151/151 [==============================] - 79s 523ms/step - loss: 0.0356 - accuracy: 0.9929 - val_loss: 0.0191 - val_accuracy: 0.9967 - lr: 1.0000e-05\n",
            "Epoch 30/50\n",
            "151/151 [==============================] - 81s 538ms/step - loss: 0.0389 - accuracy: 0.9906 - val_loss: 0.0188 - val_accuracy: 0.9967 - lr: 1.0000e-05\n",
            "Epoch 31/50\n",
            "151/151 [==============================] - 75s 494ms/step - loss: 0.0353 - accuracy: 0.9940 - val_loss: 0.0193 - val_accuracy: 0.9967 - lr: 1.0000e-05\n",
            "Epoch 32/50\n",
            "151/151 [==============================] - 80s 529ms/step - loss: 0.0365 - accuracy: 0.9921 - val_loss: 0.0182 - val_accuracy: 0.9967 - lr: 1.0000e-05\n",
            "Epoch 33/50\n",
            "151/151 [==============================] - 74s 487ms/step - loss: 0.0362 - accuracy: 0.9906 - val_loss: 0.0184 - val_accuracy: 0.9967 - lr: 1.0000e-05\n",
            "Epoch 34/50\n",
            "151/151 [==============================] - 73s 484ms/step - loss: 0.0370 - accuracy: 0.9908 - val_loss: 0.0182 - val_accuracy: 0.9967 - lr: 1.0000e-05\n",
            "Epoch 35/50\n",
            "151/151 [==============================] - ETA: 0s - loss: 0.0324 - accuracy: 0.9952\n",
            "Epoch 35: ReduceLROnPlateau reducing learning rate to 9.999999747378752e-07.\n",
            "151/151 [==============================] - 77s 515ms/step - loss: 0.0324 - accuracy: 0.9952 - val_loss: 0.0181 - val_accuracy: 0.9967 - lr: 1.0000e-05\n",
            "Epoch 36/50\n",
            "151/151 [==============================] - 73s 486ms/step - loss: 0.0379 - accuracy: 0.9906 - val_loss: 0.0182 - val_accuracy: 0.9967 - lr: 1.0000e-06\n",
            "Epoch 37/50\n",
            "151/151 [==============================] - 75s 496ms/step - loss: 0.0333 - accuracy: 0.9942 - val_loss: 0.0183 - val_accuracy: 0.9967 - lr: 1.0000e-06\n",
            "Epoch 38/50\n",
            "151/151 [==============================] - ETA: 0s - loss: 0.0339 - accuracy: 0.9933\n",
            "Epoch 38: ReduceLROnPlateau reducing learning rate to 9.999999974752428e-08.\n",
            "151/151 [==============================] - 72s 476ms/step - loss: 0.0339 - accuracy: 0.9933 - val_loss: 0.0182 - val_accuracy: 0.9967 - lr: 1.0000e-06\n",
            "Epoch 39/50\n",
            "151/151 [==============================] - 75s 495ms/step - loss: 0.0356 - accuracy: 0.9919 - val_loss: 0.0182 - val_accuracy: 0.9967 - lr: 1.0000e-07\n",
            "Epoch 40/50\n",
            "151/151 [==============================] - 72s 479ms/step - loss: 0.0332 - accuracy: 0.9935 - val_loss: 0.0182 - val_accuracy: 0.9967 - lr: 1.0000e-07\n",
            "Epoch 41/50\n",
            "151/151 [==============================] - ETA: 0s - loss: 0.0333 - accuracy: 0.9938\n",
            "Epoch 41: ReduceLROnPlateau reducing learning rate to 1.0000000116860975e-08.\n",
            "151/151 [==============================] - 72s 479ms/step - loss: 0.0333 - accuracy: 0.9938 - val_loss: 0.0182 - val_accuracy: 0.9967 - lr: 1.0000e-07\n",
            "Epoch 42/50\n",
            "151/151 [==============================] - 75s 495ms/step - loss: 0.0344 - accuracy: 0.9917 - val_loss: 0.0182 - val_accuracy: 0.9967 - lr: 1.0000e-08\n",
            "Epoch 43/50\n",
            "151/151 [==============================] - 72s 476ms/step - loss: 0.0344 - accuracy: 0.9927 - val_loss: 0.0182 - val_accuracy: 0.9967 - lr: 1.0000e-08\n",
            "Epoch 44/50\n",
            "151/151 [==============================] - ETA: 0s - loss: 0.0343 - accuracy: 0.9925\n",
            "Epoch 44: ReduceLROnPlateau reducing learning rate to 9.999999939225292e-10.\n",
            "151/151 [==============================] - 75s 496ms/step - loss: 0.0343 - accuracy: 0.9925 - val_loss: 0.0182 - val_accuracy: 0.9967 - lr: 1.0000e-08\n",
            "Epoch 45/50\n",
            "151/151 [==============================] - ETA: 0s - loss: 0.0363 - accuracy: 0.9940Restoring model weights from the end of the best epoch: 35.\n",
            "151/151 [==============================] - 72s 478ms/step - loss: 0.0363 - accuracy: 0.9940 - val_loss: 0.0182 - val_accuracy: 0.9967 - lr: 1.0000e-09\n",
            "Epoch 45: early stopping\n"
          ]
        }
      ],
      "source": [
        "if os.path.isfile('/content/drive/MyDrive/Eye Glaucoma/models/eye_ckpt_vgg19.h5'):\n",
        "    #This code is implemented to load the partly trained model which was stopped due to some reason\n",
        "    print(\"Running the Partially Trained Model\")\n",
        "    partially_trained_model = load_model('/content/drive/MyDrive/Eye Glaucoma/models/eye_ckpt_vgg19.h5')\n",
        "    history = partially_trained_model.fit(train_batches, steps_per_epoch=len(train_batches),\n",
        "                                 validation_data=valid_batches, validation_steps=len(valid_batches),\n",
        "                                    epochs=50,callbacks=callbacks_list, verbose=1)\n",
        "else:\n",
        "    print(\"Running the Training of Model from Scratch\")\n",
        "    model_vgg19.compile(loss='binary_crossentropy',optimizer=Adam(learning_rate=0.0001),metrics=['accuracy'])\n",
        "    history = model_vgg19.fit(train_batches, steps_per_epoch=len(train_batches),\n",
        "                                 validation_data=valid_batches, validation_steps=len(valid_batches),\n",
        "                                    epochs=50,callbacks=callbacks_list, verbose=1)"
      ]
    },
    {
      "cell_type": "markdown",
      "id": "UeqEpHszh1YX",
      "metadata": {
        "id": "UeqEpHszh1YX"
      },
      "source": [
        "Plot Loss Accuracy Curve"
      ]
    },
    {
      "cell_type": "code",
      "execution_count": null,
      "id": "2a5e497b-ceb2-4467-9004-f9681b310b5e",
      "metadata": {
        "id": "2a5e497b-ceb2-4467-9004-f9681b310b5e",
        "colab": {
          "base_uri": "https://localhost:8080/",
          "height": 562
        },
        "outputId": "a656c678-2bbd-4089-d356-f053ebbb5e68"
      },
      "outputs": [
        {
          "output_type": "display_data",
          "data": {
            "text/plain": [
              "<Figure size 432x288 with 1 Axes>"
            ],
            "image/png": "[encoded data removed]"
          },
          "metadata": {
            "needs_background": "light"
          }
        },
        {
          "output_type": "display_data",
          "data": {
            "text/plain": [
              "<Figure size 432x288 with 0 Axes>"
            ]
          },
          "metadata": {}
        },
        {
          "output_type": "display_data",
          "data": {
            "text/plain": [
              "<Figure size 432x288 with 1 Axes>"
            ],
            "image/png": "[encoded data removed]"
          },
          "metadata": {
            "needs_background": "light"
          }
        }
      ],
      "source": [
        "acc = history.history['accuracy']\n",
        "val_acc = history.history['val_accuracy']\n",
        "loss = history.history['loss']\n",
        "val_loss = history.history['val_loss']\n",
        "\n",
        "epochs = range(1, len(acc) + 1)\n",
        "f,ax = plt.subplots(figsize=(6, 4))\n",
        "plt.plot(epochs, acc, 'bo', label='Training acc')\n",
        "plt.plot(epochs, val_acc, 'b', label='Validation acc')\n",
        "plt.title('Training and validation accuracy')\n",
        "plt.legend()\n",
        "os.makedirs(\"/content/drive/MyDrive/Eye Glaucoma/Figures\");\n",
        "plt.savefig('/content/drive/MyDrive/Eye Glaucoma/Figures/accuracy.png')\n",
        "plt.figure()\n",
        "f,ax = plt.subplots(figsize=(6, 4))\n",
        "plt.plot(epochs, loss, 'bo', label='Training loss')\n",
        "plt.plot(epochs, val_loss, 'b', label='Validation loss')\n",
        "plt.title('Training and validation loss')\n",
        "plt.savefig('/content/drive/MyDrive/Eye Glaucoma/Figures/loss.png')\n",
        "plt.show()"
      ]
    },
    {
      "cell_type": "code",
      "execution_count": null,
      "id": "EJWvQH2MQv-b",
      "metadata": {
        "id": "EJWvQH2MQv-b"
      },
      "outputs": [],
      "source": [
        "def plot_curve(history,fig_name):\n",
        "    acc = history.history['accuracy']\n",
        "    val_acc = history.history['val_accuracy']\n",
        "    loss = history.history['loss']\n",
        "    val_loss = history.history['val_loss']\n",
        "    epochs = range(1, len(acc) + 1)\n",
        "\n",
        "    plt.figure(figsize=(10,10))\n",
        "    plt.grid()\n",
        "    plt.title('Training and validation Curve')\n",
        "    plt.plot(epochs, acc, 'b',marker='o', label='Training acc')\n",
        "    plt.plot(epochs, val_acc, 'r',marker='o', label='Validation acc')\n",
        "    plt.legend()\n",
        "\n",
        "    plt.plot(epochs, loss, 'm',marker='o', label='Training loss')\n",
        "    plt.plot(epochs, val_loss, 'g',marker='o', label='Validation loss')\n",
        "    plt.legend()\n",
        "    plt.savefig(f\"/content/drive/MyDrive/Eye Glaucoma/Figures/{fig_name}.png\")\n",
        "    plt.show()\n",
        ""
      ]
    },
    {
      "cell_type": "code",
      "execution_count": null,
      "id": "OtINhS9TQ5zM",
      "metadata": {
        "id": "OtINhS9TQ5zM",
        "colab": {
          "base_uri": "https://localhost:8080/",
          "height": 607
        },
        "outputId": "fba567f2-28d2-46cf-88d9-f4cb5891898b"
      },
      "outputs": [
        {
          "output_type": "display_data",
          "data": {
            "text/plain": [
              "<Figure size 720x720 with 1 Axes>"
            ],
            "image/png": "[encoded data removed]"
          },
          "metadata": {
            "needs_background": "light"
          }
        }
      ],
      "source": [
        "plot_curve(history,\"acc_loss_curve\")"
      ]
    },
    {
      "cell_type": "markdown",
      "id": "GtOt3vs6h7vw",
      "metadata": {
        "id": "GtOt3vs6h7vw"
      },
      "source": [
        "Model Prediction and Confusion matrix"
      ]
    },
    {
      "cell_type": "code",
      "execution_count": null,
      "id": "h2AUFWbsyHKi",
      "metadata": {
        "id": "h2AUFWbsyHKi"
      },
      "outputs": [],
      "source": [
        "# model_vgg19 = load_model('/content/drive/MyDrive/freelance/models/eye_ckpt_vgg19.h5')\n",
        "model_vgg19 = load_model('/content/drive/MyDrive/Eye Glaucoma/models/eye_ckpt_vgg19.h5')"
      ]
    },
    {
      "cell_type": "code",
      "execution_count": null,
      "id": "624bbbbf-c5d6-43a3-b5ca-e542c80a60d7",
      "metadata": {
        "colab": {
          "base_uri": "https://localhost:8080/",
          "height": 530
        },
        "id": "624bbbbf-c5d6-43a3-b5ca-e542c80a60d7",
        "outputId": "bcdbf70d-c887-4c72-8463-a94a792252f5"
      },
      "outputs": [
        {
          "output_type": "stream",
          "name": "stdout",
          "text": [
            "19/19 [==============================] - 6s 290ms/step\n"
          ]
        },
        {
          "output_type": "display_data",
          "data": {
            "text/plain": [
              "<Figure size 576x576 with 2 Axes>"
            ],
            "image/png": "[encoded data removed]"
          },
          "metadata": {
            "needs_background": "light"
          }
        }
      ],
      "source": [
        "predictions = model_vgg19.predict(test_batches, steps=len(test_batches), verbose=1)\n",
        "pred_label = np.argmax(predictions,axis=1)\n",
        "classes = np.argmax(predictions, axis=1)\n",
        "cm = confusion_matrix(test_batches.labels,pred_label)\n",
        "f,ax = plt.subplots(figsize=(8, 8))\n",
        "sns.heatmap(cm, annot=True, linewidths=0.01,cmap=\"Greens\",linecolor=\"gray\", fmt= '.1f',ax=ax)\n",
        "plt.xlabel(\"Predicted Label\")\n",
        "plt.ylabel(\"True Label\")\n",
        "plt.title(\"Confusion Matrix\")\n",
        "plt.savefig('/content/drive/MyDrive/Eye Glaucoma/Figures/confusion_matrix_dist.png')\n",
        "plt.show()"
      ]
    },
    {
      "cell_type": "code",
      "execution_count": null,
      "id": "eIAc6NbCZXxp",
      "metadata": {
        "id": "eIAc6NbCZXxp"
      },
      "outputs": [],
      "source": [
        "import pandas as pd\n",
        "class_names = ['Glaucoma', 'Normal']\n",
        "\n",
        "def plot_cm(y_true, y_pred, figsize=(6,6)):\n",
        "    cm = confusion_matrix(y_true, y_pred, labels=np.unique(y_true))\n",
        "    annot = np.empty_like(cm).astype(str)\n",
        "    nrows, ncols = cm.shape\n",
        "    cm = pd.DataFrame(cm, index=[i for i in class_names],\n",
        "                  columns = [i for i in class_names])\n",
        "\n",
        "    cm.index.name = 'True label'\n",
        "    cm.columns.name = 'Predicted label'\n",
        "    fig, ax = plt.subplots(figsize=figsize)\n",
        "    sns.heatmap(cm, annot=annot, fmt='', ax=ax)\n",
        "    plt.savefig('/content/drive/MyDrive/Eye Glaucoma/Figures/confusion_matrix_dist.png')"
      ]
    },
    {
      "cell_type": "code",
      "execution_count": null,
      "id": "FVXdEJ5uZYt4",
      "metadata": {
        "colab": {
          "base_uri": "https://localhost:8080/",
          "height": 392
        },
        "id": "FVXdEJ5uZYt4",
        "outputId": "8587ed3d-dcc8-4250-9368-290fcc442be5"
      },
      "outputs": [
        {
          "output_type": "display_data",
          "data": {
            "text/plain": [
              "<Figure size 432x432 with 2 Axes>"
            ],
            "image/png": "[encoded data removed]"
          },
          "metadata": {
            "needs_background": "light"
          }
        }
      ],
      "source": [
        "plot_cm(test_batches.labels,pred_label)"
      ]
    },
    {
      "cell_type": "markdown",
      "id": "17GpMUSsiCtf",
      "metadata": {
        "id": "17GpMUSsiCtf"
      },
      "source": [
        "Model Evaluation on test data"
      ]
    },
    {
      "cell_type": "code",
      "execution_count": null,
      "id": "yA7LrvsDcLVe",
      "metadata": {
        "id": "yA7LrvsDcLVe",
        "colab": {
          "base_uri": "https://localhost:8080/"
        },
        "outputId": "b6b050f2-0f19-49a6-d83c-dd3bc265d7b5"
      },
      "outputs": [
        {
          "output_type": "stream",
          "name": "stdout",
          "text": [
            "151/151 [==============================] - 69s 457ms/step - loss: 0.0375 - accuracy: 0.9910\n",
            "Train loss: 0.037540215998888016\n",
            "Train accuracy: 0.9910454154014587\n"
          ]
        }
      ],
      "source": [
        "score = model_vgg19.evaluate(train_batches)\n",
        "print('Train loss:', score[0])\n",
        "print('Train accuracy:', score[1])"
      ]
    },
    {
      "cell_type": "code",
      "execution_count": null,
      "id": "JIKsDoDrb4fM",
      "metadata": {
        "id": "JIKsDoDrb4fM",
        "colab": {
          "base_uri": "https://localhost:8080/"
        },
        "outputId": "f68b9040-ff0c-4e4d-8760-e993812de2eb"
      },
      "outputs": [
        {
          "output_type": "stream",
          "name": "stdout",
          "text": [
            "19/19 [==============================] - 3s 162ms/step - loss: 0.0181 - accuracy: 0.9967\n",
            "Validation loss: 0.018113847821950912\n",
            "Validation accuracy: 0.996666669845581\n"
          ]
        }
      ],
      "source": [
        "score = model_vgg19.evaluate(valid_batches)\n",
        "print('Validation loss:', score[0])\n",
        "print('Validation accuracy:', score[1])"
      ]
    },
    {
      "cell_type": "code",
      "execution_count": null,
      "id": "bcVAlCeub4st",
      "metadata": {
        "id": "bcVAlCeub4st",
        "colab": {
          "base_uri": "https://localhost:8080/"
        },
        "outputId": "6ae316eb-eaf3-4eed-e6e6-58405352dd50"
      },
      "outputs": [
        {
          "output_type": "stream",
          "name": "stdout",
          "text": [
            "19/19 [==============================] - 3s 162ms/step - loss: 0.0229 - accuracy: 0.9950\n",
            "Test loss: 0.02292078547179699\n",
            "Test accuracy: 0.9950082898139954\n"
          ]
        }
      ],
      "source": [
        "score = model_vgg19.evaluate(test_batches)\n",
        "print('Test loss:', score[0])\n",
        "print('Test accuracy:', score[1])"
      ]
    },
    {
      "cell_type": "markdown",
      "id": "OzBTcCIMegJ-",
      "metadata": {
        "id": "OzBTcCIMegJ-"
      },
      "source": [
        "Classification Report"
      ]
    },
    {
      "cell_type": "code",
      "execution_count": null,
      "id": "b0h9MVILjmq-",
      "metadata": {
        "id": "b0h9MVILjmq-",
        "colab": {
          "base_uri": "https://localhost:8080/"
        },
        "outputId": "632c6be6-9635-41f5-eb06-42c4fcb59ad8"
      },
      "outputs": [
        {
          "output_type": "stream",
          "name": "stdout",
          "text": [
            "Looking in indexes: https://pypi.org/simple, https://us-python.pkg.dev/colab-wheels/public/simple/\n",
            "Collecting scikit-plot\n",
            "  Downloading scikit_plot-0.3.7-py3-none-any.whl (33 kB)\n",
            "Requirement already satisfied: matplotlib>=1.4.0 in /usr/local/lib/python3.8/dist-packages (from scikit-plot) (3.2.2)\n",
            "Requirement already satisfied: scikit-learn>=0.18 in /usr/local/lib/python3.8/dist-packages (from scikit-plot) (1.0.2)\n",
            "Requirement already satisfied: joblib>=0.10 in /usr/local/lib/python3.8/dist-packages (from scikit-plot) (1.2.0)\n",
            "Requirement already satisfied: scipy>=0.9 in /usr/local/lib/python3.8/dist-packages (from scikit-plot) (1.7.3)\n",
            "Requirement already satisfied: kiwisolver>=1.0.1 in /usr/local/lib/python3.8/dist-packages (from matplotlib>=1.4.0->scikit-plot) (1.4.4)\n",
            "Requirement already satisfied: numpy>=1.11 in /usr/local/lib/python3.8/dist-packages (from matplotlib>=1.4.0->scikit-plot) (1.21.6)\n",
            "Requirement already satisfied: cycler>=0.10 in /usr/local/lib/python3.8/dist-packages (from matplotlib>=1.4.0->scikit-plot) (0.11.0)\n",
            "Requirement already satisfied: pyparsing!=2.0.4,!=2.1.2,!=2.1.6,>=2.0.1 in /usr/local/lib/python3.8/dist-packages (from matplotlib>=1.4.0->scikit-plot) (3.0.9)\n",
            "Requirement already satisfied: python-dateutil>=2.1 in /usr/local/lib/python3.8/dist-packages (from matplotlib>=1.4.0->scikit-plot) (2.8.2)\n",
            "Requirement already satisfied: threadpoolctl>=2.0.0 in /usr/local/lib/python3.8/dist-packages (from scikit-learn>=0.18->scikit-plot) (3.1.0)\n",
            "Requirement already satisfied: six>=1.5 in /usr/local/lib/python3.8/dist-packages (from python-dateutil>=2.1->matplotlib>=1.4.0->scikit-plot) (1.15.0)\n",
            "Installing collected packages: scikit-plot\n",
            "Successfully installed scikit-plot-0.3.7\n"
          ]
        }
      ],
      "source": [
        "!pip install scikit-plot"
      ]
    },
    {
      "cell_type": "code",
      "execution_count": null,
      "id": "02JaAexXehjN",
      "metadata": {
        "id": "02JaAexXehjN"
      },
      "outputs": [],
      "source": [
        "import scikitplot as skplt\n",
        "import matplotlib.pyplot as plt\n",
        "from sklearn.metrics import roc_curve, auc, roc_auc_score\n",
        "from sklearn.metrics import classification_report"
      ]
    },
    {
      "cell_type": "code",
      "execution_count": null,
      "id": "jKyem__OenAO",
      "metadata": {
        "id": "jKyem__OenAO",
        "colab": {
          "base_uri": "https://localhost:8080/"
        },
        "outputId": "c28ab5ed-d9c6-40e3-ce14-714b390abb5b"
      },
      "outputs": [
        {
          "output_type": "stream",
          "name": "stdout",
          "text": [
            "              precision    recall  f1-score   support\n",
            "\n",
            "    Glaucoma       1.00      0.99      0.99       301\n",
            "      Normal       0.99      1.00      1.00       300\n",
            "\n",
            "    accuracy                           1.00       601\n",
            "   macro avg       1.00      1.00      1.00       601\n",
            "weighted avg       1.00      1.00      1.00       601\n",
            "\n"
          ]
        }
      ],
      "source": [
        "print(classification_report(test_batches.classes, pred_label, target_names=class_names))\n"
      ]
    },
    {
      "cell_type": "code",
      "source": [],
      "metadata": {
        "id": "fvhYNHtroVts"
      },
      "id": "fvhYNHtroVts",
      "execution_count": null,
      "outputs": []
    }
  ],
  "metadata": {
    "accelerator": "GPU",
    "colab": {
      "provenance": []
    },
    "gpuClass": "standard",
    "kernelspec": {
      "display_name": "Python 3 (ipykernel)",
      "language": "python",
      "name": "python3"
    },
    "language_info": {
      "codemirror_mode": {
        "name": "ipython",
        "version": 3
      },
      "file_extension": ".py",
      "mimetype": "text/x-python",
      "name": "python",
      "nbconvert_exporter": "python",
      "pygments_lexer": "ipython3",
      "version": "3.9.13"
    }
  },
  "nbformat": 4,
  "nbformat_minor": 5
}