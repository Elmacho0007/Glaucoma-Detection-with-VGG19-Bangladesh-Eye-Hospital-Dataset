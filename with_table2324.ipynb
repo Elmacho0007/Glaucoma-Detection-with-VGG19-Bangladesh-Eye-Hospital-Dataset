{
  "nbformat": 4,
  "nbformat_minor": 0,
  "metadata": {
    "colab": {
      "provenance": []
    },
    "kernelspec": {
      "name": "python3",
      "display_name": "Python 3"
    },
    "language_info": {
      "name": "python"
    }
  },
  "cells": [
    {
      "cell_type": "code",
      "execution_count": null,
      "metadata": {
        "id": "fAwHQ4Eo9t-C"
      },
      "outputs": [],
      "source": [
        "import streamlit as st\n",
        "from PIL import Image\n",
        "import numpy as np\n",
        "import tensorflow as tf\n",
        "import matplotlib.pyplot as plt\n",
        "from tensorflow.keras.models import load_model\n",
        "\n",
        "# Load the trained model\n",
        "model_path = \"G:/Glaucoma_Detection/latestcolabfile/latest_model_vgg19.h5\"\n",
        "model = load_model(model_path)\n",
        "\n",
        "# Define the categories of the model\n",
        "categories = [\"Glaucoma\", \"Normal\"]\n",
        "\n",
        "# Define the function to classify an image\n",
        "def classify_image(image):\n",
        "    # Preprocess the image\n",
        "    image = image.resize((224, 224))\n",
        "    #image = np.array(image) / 255.0\n",
        "    image = np.expand_dims(image, axis=0)\n",
        "\n",
        "    # Predict the category of the image\n",
        "    prediction = model.predict(image)\n",
        "    category_index = np.argmax(prediction)\n",
        "    category = categories[category_index]\n",
        "\n",
        "    return category\n",
        "\n",
        "# Define the app layout\n",
        "st.set_page_config(page_title=\"Glaucoma Detection\", page_icon=\":eyes:\", layout=\"wide\")\n",
        "st.title(\"Glaucoma Detection App\")\n",
        "st.write(\"Upload an image of an eye and the app will classify it as Glaucoma or Normal.\")\n",
        "\n",
        "# Define the sidebar\n",
        "st.sidebar.title(\"Stats\")\n",
        "uploaded_images = st.sidebar.empty()\n",
        "glaucoma_count = st.sidebar.empty()\n",
        "normal_count = st.sidebar.empty()\n",
        "st.sidebar.markdown(\"<hr>\", unsafe_allow_html=True)\n",
        "st.sidebar.title(\"About\")\n",
        "st.sidebar.info(\n",
        "    \"This app uses a deep learning model to classify an eye image as Glaucoma or Normal.\"\n",
        ")\n",
        "\n",
        "# Define the main content\n",
        "uploaded_files = st.file_uploader(\"Upload an image\", type=[\"png\", \"jpg\", \"jpeg\"], accept_multiple_files=True)\n",
        "\n",
        "if uploaded_files:\n",
        "    # Display the uploaded images\n",
        "    uploaded_images.image([Image.open(file) for file in uploaded_files], width=200)\n",
        "\n",
        "    # Classify the images and count the results\n",
        "    glaucoma = 0\n",
        "    normal = 0\n",
        "    for file in uploaded_files:\n",
        "        image = Image.open(file)\n",
        "        category = classify_image(image)\n",
        "        if category == \"Glaucoma\":\n",
        "            glaucoma += 1\n",
        "            st.error(\"Glaucoma detected!\")\n",
        "        else:\n",
        "            normal += 1\n",
        "            st.success(\"Normal eye detected!\")\n",
        "    glaucoma_count.write(f\"Glaucoma: {glaucoma}\")\n",
        "    normal_count.write(f\"Normal: {normal}\")\n",
        "\n",
        "    # Display the results in a table\n",
        "    st.write(\"## Results\")\n",
        "    results = [(\"Image\", \"Level\")]\n",
        "    for i, file in enumerate(uploaded_files):\n",
        "        image = Image.open(file)\n",
        "        category = classify_image(image)\n",
        "        results.append((f\"Image {i+1}\", category))\n",
        "    st.table(results)\n",
        "\n",
        "    # Display the pie chart of the results\n",
        "    st.write(\"## Pie Chart\")\n",
        "    values = [glaucoma, normal]\n",
        "    labels = [\"Glaucoma\", \"Normal\"]\n",
        "    colors = [\"red\", \"purple\"]\n",
        "    fig, ax = plt.subplots()\n",
        "    ax.pie(values, labels=labels, colors=colors, autopct=\"%1.1f%%\", startangle=90)\n",
        "    ax.axis(\"equal\")\n",
        "    st.pyplot(fig)\n",
        "\n",
        "#if __name__ == '__main__':\n",
        "    #app()\n",
        "\n",
        "\n",
        "\n",
        "\n",
        "\n"
      ]
    },
    {
      "cell_type": "code",
      "source": [],
      "metadata": {
        "id": "LxoYP3pG9yxZ"
      },
      "execution_count": null,
      "outputs": []
    },
    {
      "cell_type": "code",
      "source": [],
      "metadata": {
        "id": "e1Rjvt-6qcEw"
      },
      "execution_count": null,
      "outputs": []
    }
  ]
}